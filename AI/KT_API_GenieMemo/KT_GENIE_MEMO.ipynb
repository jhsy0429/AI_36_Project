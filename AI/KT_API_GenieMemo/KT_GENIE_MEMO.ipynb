{
 "cells": [
  {
   "cell_type": "code",
   "execution_count": 1,
   "metadata": {},
   "outputs": [],
   "source": [
    "import os\n",
    "import sys\n",
    "from TestCommon.conf import config\n",
    "from TestCommon.conf import bcolors\n",
    "from ktAiApiSDK.GENIEMEMO import GENIEMEMO\n",
    "from pathlib import Path\n",
    "import json"
   ]
  },
  {
   "cell_type": "code",
   "execution_count": 2,
   "metadata": {},
   "outputs": [],
   "source": [
    "clientKey = \"0fb26b7f-9b98-53cc-bc0f-eccf6988a793\"\n",
    "clientId = \"239ea532-a145-45f4-8295-ee4876877fec\"\n",
    "clientSecret = \"e35be7455626bde39956632c968b98df6e9d1458942f2c69888400166ca27f4e\""
   ]
  },
  {
   "cell_type": "code",
   "execution_count": 3,
   "metadata": {},
   "outputs": [],
   "source": [
    "#-------------------------------------------\n",
    "# 호출용 데이터 설정\n",
    "#-------------------------------------------\n",
    "geniememo_client = GENIEMEMO()\n",
    "geniememo_client.__init__()\n",
    "geniememo_client.setAuth(clientKey, clientId, clientSecret)\n",
    "callKey = \"10\"\n",
    "lastYn = \"N\"\n",
    "callIndex = 1\n",
    "file_name = './TestFile/GENIEMEMO.wav'\n",
    "audioData = Path(file_name).read_bytes()\n"
   ]
  },
  {
   "cell_type": "code",
   "execution_count": 4,
   "metadata": {},
   "outputs": [
    {
     "name": "stdout",
     "output_type": "stream",
     "text": [
      "[ipykernel_launcher]\n",
      "\u001b[0m ========= 호출정보 =========\n",
      "\u001b[93m audioData: ./TestFile/GENIEMEMO.wav callKey: 10 lastYn: N callIndex: 1\n"
     ]
    }
   ],
   "source": [
    "#-------------------------------------------\n",
    "# 호출\n",
    "#-------------------------------------------\n",
    "print(\"[\" + os.path.basename(sys.argv[0]).replace(\".py\", \"\") + \"]\")\n",
    "print(bcolors.ENDC, \"========= 호출정보 =========\")\n",
    "print(bcolors.WARNING, \"audioData:\", file_name, \"callKey:\", callKey, \"lastYn:\", lastYn, \"callIndex:\", callIndex)\n",
    "response = geniememo_client.requestGENIEMEMO(audioData, callKey, lastYn, callIndex)\n"
   ]
  },
  {
   "cell_type": "code",
   "execution_count": 5,
   "metadata": {},
   "outputs": [
    {
     "name": "stdout",
     "output_type": "stream",
     "text": [
      "\u001b[0m ========= 응답결과 =========\n",
      "\u001b[94m {'statusCode': 200, 'result': ['{\"code\":\"0000\",\"message\":\"Success\",\"callIndex\":1,\"dataList\":[{\"userIdx\":\"2\",\"startTime\":\"1780\",\"endTime\":\"2530\",\"text\":\"네 안녕하\"},{\"userIdx\":\"1\",\"startTime\":\"2530\",\"endTime\":\"5810\",\"text\":\"아예 안녕하세요 그 벼룩시장 광고 보고 전화드렸는데요\"},{\"userIdx\":\"2\",\"startTime\":\"6570\",\"endTime\":\"9740\",\"text\":\"아 예 예 예 혹시 나이가 어떻게 되셨나요\"},{\"userIdx\":\"1\",\"startTime\":\"9840\",\"endTime\":\"11470\",\"text\":\"아 마흔 여섯입니다\"},{\"userIdx\":\"2\",\"startTime\":\"12410\",\"endTime\":\"14970\",\"text\":\"아 네 뭐 최근에 뭐 어떤 일을 해보셨어요\"},{\"userIdx\":\"1\",\"startTime\":\"15760\",\"endTime\":\"19310\",\"text\":\"아 그 채권 추심 뭐\"},{\"userIdx\":\"2\",\"startTime\":\"21190\",\"endTime\":\"41190\",\"text\":\"아 그러셨어요 예 지금 저희 쪽도 지금 채권 투시 업무대 회사거든요 예 네 그 결제 그 받아오 출장시이신데 뭐 해보셨으면은 예 노희 쪽도 충분히 가능하실 것 같으세요 뭐 이런 필장은 있으신가요 예 아 일하실 이항은 있으신가요\"},{\"userIdx\":\"1\",\"startTime\":\"41770\",\"endTime\":\"42910\",\"text\":\"뜨니까 전화드\"},{\"userIdx\":\"2\",\"startTime\":\"43510\",\"endTime\":\"58150\",\"text\":\"음그러면 저희쪽에 지금 뭐지 그 회사 예 뭐 그 보는데 예 일단 그 서류가 필요하거든요 요거 취 어 취직서류가 필요하신데 뭐 주민등록증이라거는 요증지 가능하시겠어요\"},{\"userIdx\":\"1\",\"startTime\":\"59060\",\"endTime\":\"61740\",\"text\":\"인이 가능 가능하죠 아\"},{\"userIdx\":\"2\",\"startTime\":\"61950\",\"endTime\":\"67970\",\"text\":\"그러시면 제가 카톡으로 제가 필요한 서류를 보내드릴 거니까 일단 이제 카톡 이 번호로 사용하세요\"},{\"userIdx\":\"2\",\"startTime\":\"71480\",\"endTime\":\"76520\",\"text\":\"예 그러시면 제가 카톡을 추가해서 필요한 서류 일단 넣어드릴 거\"},{\"userIdx\":\"2\",\"startTime\":\"77380\",\"endTime\":\"81280\",\"text\":\"일단은 출 어 출근은 내일부터 해야 되실 거 같으세요\"},{\"userIdx\":\"1\",\"startTime\":\"81880\",\"endTime\":\"86080\",\"text\":\"아니 뭐 면접도 안 보고 출근을 해요\"},{\"userIdx\":\"2\",\"startTime\":\"86150\",\"endTime\":\"118120\",\"text\":\"지금 여기 코로나 때문에 몇쪽번 안 보세요 코로나 끝나고 상태가 조금 좋아지시면은 그때부터 저희가 면접을 봐드리거든요 지금은 면쪽 코로나 때문에 면접은 안 보고 예 전화상으로 예 간단하게 뭐 회사 필요한 서류나 뭐 주민등록증 자표 고객 뭐 주민등록증 뭐 등 뭐 초보 요런 것만 또 서 받아놓고 예 일을 하시다가 뭐 코로나도 안정되시고 하시게 되면은 어때 면접으 되어 배정해드려요 지금은 연주은 안봐 안 뭐\"},{\"userIdx\":\"1\",\"startTime\":\"119000\",\"endTime\":\"119830\",\"text\":\"면접을 안\"},{\"userIdx\":\"2\",\"startTime\":\"121010\",\"endTime\":\"128200\",\"text\":\"네 네 저희가 지금 코로나 때문에 면접은 회사에서 일제로 입금 안 하고 있거든요\"},{\"userIdx\":\"1\",\"startTime\":\"128530\",\"endTime\":\"131690\",\"text\":\"아\"}],\"status\":0,\"duration\":131}']}\n",
      "\u001b[0m\n"
     ]
    }
   ],
   "source": [
    "#-------------------------------------------\n",
    "# 결과 출력\n",
    "#-------------------------------------------\n",
    "print(bcolors.ENDC, \"========= 응답결과 =========\")\n",
    "print(bcolors.HEADER, response)\n",
    "\n",
    "print(bcolors.ENDC)"
   ]
  },
  {
   "cell_type": "code",
   "execution_count": 6,
   "metadata": {},
   "outputs": [
    {
     "data": {
      "text/plain": [
       "{'statusCode': 200,\n",
       " 'result': ['{\"code\":\"0000\",\"message\":\"Success\",\"callIndex\":1,\"dataList\":[{\"userIdx\":\"2\",\"startTime\":\"1780\",\"endTime\":\"2530\",\"text\":\"네 안녕하\"},{\"userIdx\":\"1\",\"startTime\":\"2530\",\"endTime\":\"5810\",\"text\":\"아예 안녕하세요 그 벼룩시장 광고 보고 전화드렸는데요\"},{\"userIdx\":\"2\",\"startTime\":\"6570\",\"endTime\":\"9740\",\"text\":\"아 예 예 예 혹시 나이가 어떻게 되셨나요\"},{\"userIdx\":\"1\",\"startTime\":\"9840\",\"endTime\":\"11470\",\"text\":\"아 마흔 여섯입니다\"},{\"userIdx\":\"2\",\"startTime\":\"12410\",\"endTime\":\"14970\",\"text\":\"아 네 뭐 최근에 뭐 어떤 일을 해보셨어요\"},{\"userIdx\":\"1\",\"startTime\":\"15760\",\"endTime\":\"19310\",\"text\":\"아 그 채권 추심 뭐\"},{\"userIdx\":\"2\",\"startTime\":\"21190\",\"endTime\":\"41190\",\"text\":\"아 그러셨어요 예 지금 저희 쪽도 지금 채권 투시 업무대 회사거든요 예 네 그 결제 그 받아오 출장시이신데 뭐 해보셨으면은 예 노희 쪽도 충분히 가능하실 것 같으세요 뭐 이런 필장은 있으신가요 예 아 일하실 이항은 있으신가요\"},{\"userIdx\":\"1\",\"startTime\":\"41770\",\"endTime\":\"42910\",\"text\":\"뜨니까 전화드\"},{\"userIdx\":\"2\",\"startTime\":\"43510\",\"endTime\":\"58150\",\"text\":\"음그러면 저희쪽에 지금 뭐지 그 회사 예 뭐 그 보는데 예 일단 그 서류가 필요하거든요 요거 취 어 취직서류가 필요하신데 뭐 주민등록증이라거는 요증지 가능하시겠어요\"},{\"userIdx\":\"1\",\"startTime\":\"59060\",\"endTime\":\"61740\",\"text\":\"인이 가능 가능하죠 아\"},{\"userIdx\":\"2\",\"startTime\":\"61950\",\"endTime\":\"67970\",\"text\":\"그러시면 제가 카톡으로 제가 필요한 서류를 보내드릴 거니까 일단 이제 카톡 이 번호로 사용하세요\"},{\"userIdx\":\"2\",\"startTime\":\"71480\",\"endTime\":\"76520\",\"text\":\"예 그러시면 제가 카톡을 추가해서 필요한 서류 일단 넣어드릴 거\"},{\"userIdx\":\"2\",\"startTime\":\"77380\",\"endTime\":\"81280\",\"text\":\"일단은 출 어 출근은 내일부터 해야 되실 거 같으세요\"},{\"userIdx\":\"1\",\"startTime\":\"81880\",\"endTime\":\"86080\",\"text\":\"아니 뭐 면접도 안 보고 출근을 해요\"},{\"userIdx\":\"2\",\"startTime\":\"86150\",\"endTime\":\"118120\",\"text\":\"지금 여기 코로나 때문에 몇쪽번 안 보세요 코로나 끝나고 상태가 조금 좋아지시면은 그때부터 저희가 면접을 봐드리거든요 지금은 면쪽 코로나 때문에 면접은 안 보고 예 전화상으로 예 간단하게 뭐 회사 필요한 서류나 뭐 주민등록증 자표 고객 뭐 주민등록증 뭐 등 뭐 초보 요런 것만 또 서 받아놓고 예 일을 하시다가 뭐 코로나도 안정되시고 하시게 되면은 어때 면접으 되어 배정해드려요 지금은 연주은 안봐 안 뭐\"},{\"userIdx\":\"1\",\"startTime\":\"119000\",\"endTime\":\"119830\",\"text\":\"면접을 안\"},{\"userIdx\":\"2\",\"startTime\":\"121010\",\"endTime\":\"128200\",\"text\":\"네 네 저희가 지금 코로나 때문에 면접은 회사에서 일제로 입금 안 하고 있거든요\"},{\"userIdx\":\"1\",\"startTime\":\"128530\",\"endTime\":\"131690\",\"text\":\"아\"}],\"status\":0,\"duration\":131}']}"
      ]
     },
     "execution_count": 6,
     "metadata": {},
     "output_type": "execute_result"
    }
   ],
   "source": [
    "response"
   ]
  },
  {
   "cell_type": "code",
   "execution_count": 6,
   "metadata": {},
   "outputs": [],
   "source": [
    "# JSON 문자열 추출\n",
    "json_data = response['result'][0]\n",
    "\n",
    "# JSON 문자열을 파이썬 객체로 변환\n",
    "data = json.loads(json_data)\n",
    "\n",
    "# 데이터 추출 및 시작 시간 변환\n",
    "formatted_data = []\n",
    "for item in data['dataList']:\n",
    "    start_time = int(item['startTime']) // 1000  # 1000으로 나누어 초 단위로 변환\n",
    "    hours, remainder = divmod(start_time, 3600)\n",
    "    minutes, seconds = divmod(remainder, 60)\n",
    "    formatted_time = f'{hours:02d}:{minutes:02d}:{seconds:02d}'\n",
    "    formatted_data.append({'startTime': formatted_time, 'text': item['text']})\n",
    "\n",
    "# 텍스트 파일에 저장\n",
    "with open('합친거.txt', 'w') as file:\n",
    "    for item in formatted_data:\n",
    "        file.write(f\"{item['startTime']} - {item['text']}\\n\")"
   ]
  }
 ],
 "metadata": {
  "kernelspec": {
   "display_name": "aici1",
   "language": "python",
   "name": "python3"
  },
  "language_info": {
   "codemirror_mode": {
    "name": "ipython",
    "version": 3
   },
   "file_extension": ".py",
   "mimetype": "text/x-python",
   "name": "python",
   "nbconvert_exporter": "python",
   "pygments_lexer": "ipython3",
   "version": "3.10.11"
  },
  "orig_nbformat": 4
 },
 "nbformat": 4,
 "nbformat_minor": 2
}
