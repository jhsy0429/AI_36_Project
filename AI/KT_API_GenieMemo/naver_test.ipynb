{
 "cells": [
  {
   "cell_type": "code",
   "execution_count": 1,
   "metadata": {},
   "outputs": [],
   "source": [
    "import requests"
   ]
  },
  {
   "cell_type": "code",
   "execution_count": 2,
   "metadata": {},
   "outputs": [],
   "source": [
    "url = \"https://naveropenapi.apigw.ntruss.com/text-summary/v1/summarize\"\n",
    "\n",
    "headers = {\n",
    "    \"X-NCP-APIGW-API-KEY-ID\": \"wbfrhxzj95\",\n",
    "    \"X-NCP-APIGW-API-KEY\": \"UxmQ3eHUDKlsVwdpmGifcD8Dsm9McD7aN14xlngd\",\n",
    "    \"Content-Type\": \"application/json\",\n",
    "}"
   ]
  },
  {
   "cell_type": "code",
   "execution_count": 3,
   "metadata": {},
   "outputs": [],
   "source": [
    "# 텍스트 파일 열기 및 내용 읽기\n",
    "with open(\"output.json\", \"r\", encoding=\"utf-8\") as file:\n",
    "    content = file.read()"
   ]
  },
  {
   "cell_type": "code",
   "execution_count": 7,
   "metadata": {},
   "outputs": [],
   "source": [
    "data = {\n",
    "    \"document\": {\n",
    "        \"title\": \"상담 내역\",\n",
    "        \"content\": content\n",
    "    },\n",
    "    \"option\": {\n",
    "        \"language\": \"ko\",\n",
    "        \"model\": \"general\",\n",
    "        \"tone\": 3,\n",
    "        'summaryCount' : 3\n",
    "    }\n",
    "}"
   ]
  },
  {
   "cell_type": "code",
   "execution_count": 8,
   "metadata": {},
   "outputs": [],
   "source": [
    "response = requests.post(url, headers=headers, json=data)\n",
    "result = response.json()"
   ]
  },
  {
   "cell_type": "code",
   "execution_count": 9,
   "metadata": {},
   "outputs": [
    {
     "name": "stdout",
     "output_type": "stream",
     "text": [
      "{'summary': '요거 취 어 취직서류가 필요하신데 뭐 주민등록증이라거는 요증지 가능하시겠어요\", \"인이 가능 가능하죠 아\", \"그러시면 제가 카톡으로 제가 필요한 서류를 보내드릴 거니까 일단 이제 카톡 이 번호로 사용하세요\", \"예 그러시면 제가 카톡을 추가해서 필요한 서류 일단 넣어드릴 거\", \"일단은 출 어 출근은 내일부터 해야 되실 거 같으세요\", \"아니 뭐 면접도 안 보고 출근을 해요\", \"지금 여기 코로나 때문에 몇쪽번 안 보심.\\n지금은 면쪽 코로나 때문에 면접은 안 보고 예 전화상으로 예 간단하게 뭐 회사 필요한 서류나 뭐 주민등록증 자표 고객 뭐 주민등록증 뭐 등 뭐 초보 요런 것만 또 서 받아놓고 예 일을 하시다가 뭐 코로나도 안정되시고 하시게 되면은 어때 면접으 되어 배정해드림.'}\n"
     ]
    }
   ],
   "source": [
    "\n",
    "# 결과 확인\n",
    "print(result)"
   ]
  },
  {
   "cell_type": "code",
   "execution_count": 10,
   "metadata": {},
   "outputs": [
    {
     "ename": "",
     "evalue": "",
     "output_type": "error",
     "traceback": [
      "\u001b[1;31mThe Kernel crashed while executing code in the the current cell or a previous cell. Please review the code in the cell(s) to identify a possible cause of the failure. Click <a href='https://aka.ms/vscodeJupyterKernelCrash'>here</a> for more info. View Jupyter <a href='command:jupyter.viewOutput'>log</a> for further details."
     ]
    }
   ],
   "source": [
    "with open(\"output_sm.txt\", \"w\", encoding=\"utf-8\") as file:\n",
    "    file.write(result[\"summary\"])"
   ]
  }
 ],
 "metadata": {
  "kernelspec": {
   "display_name": "aici1",
   "language": "python",
   "name": "python3"
  },
  "language_info": {
   "codemirror_mode": {
    "name": "ipython",
    "version": 3
   },
   "file_extension": ".py",
   "mimetype": "text/x-python",
   "name": "python",
   "nbconvert_exporter": "python",
   "pygments_lexer": "ipython3",
   "version": "3.10.11"
  },
  "orig_nbformat": 4
 },
 "nbformat": 4,
 "nbformat_minor": 2
}
