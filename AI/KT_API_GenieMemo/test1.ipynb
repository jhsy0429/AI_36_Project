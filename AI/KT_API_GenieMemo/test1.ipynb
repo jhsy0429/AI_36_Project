{
 "cells": [
  {
   "cell_type": "code",
   "execution_count": 1,
   "metadata": {},
   "outputs": [
    {
     "ename": "ModuleNotFoundError",
     "evalue": "No module named 'STT'",
     "output_type": "error",
     "traceback": [
      "\u001b[1;31m---------------------------------------------------------------------------\u001b[0m",
      "\u001b[1;31mModuleNotFoundError\u001b[0m                       Traceback (most recent call last)",
      "Cell \u001b[1;32mIn[1], line 1\u001b[0m\n\u001b[1;32m----> 1\u001b[0m \u001b[39mfrom\u001b[39;00m \u001b[39mSTT\u001b[39;00m \u001b[39mimport\u001b[39;00m STT\n",
      "\u001b[1;31mModuleNotFoundError\u001b[0m: No module named 'STT'"
     ]
    }
   ],
   "source": [
    "from STT import STT"
   ]
  },
  {
   "cell_type": "code",
   "execution_count": 81,
   "metadata": {},
   "outputs": [],
   "source": [
    "stt = STT()"
   ]
  },
  {
   "cell_type": "code",
   "execution_count": 5,
   "metadata": {},
   "outputs": [],
   "source": [
    "clientKey = \"0fb26b7f-9b98-53cc-bc0f-eccf6988a793\"\n",
    "clientId = \"239ea532-a145-45f4-8295-ee4876877fec\"\n",
    "clientSecret = \"e35be7455626bde39956632c968b98df6e9d1458942f2c69888400166ca27f4e\""
   ]
  },
  {
   "cell_type": "code",
   "execution_count": 4,
   "metadata": {},
   "outputs": [],
   "source": [
    "stt.setAuth(clientKey, clientId, clientSecret)"
   ]
  },
  {
   "cell_type": "code",
   "execution_count": 5,
   "metadata": {},
   "outputs": [],
   "source": [
    "audioData = 'C:/Users/ekthf/Downloads/ktAiApi_Python_v1.1/ktAiApiClient/TestFile/GENIEMEMO.wav'"
   ]
  },
  {
   "cell_type": "code",
   "execution_count": 6,
   "metadata": {},
   "outputs": [],
   "source": [
    "stt.requestSTT2(audioData,'wav',1)"
   ]
  },
  {
   "cell_type": "code",
   "execution_count": 14,
   "metadata": {},
   "outputs": [
    {
     "ename": "NameError",
     "evalue": "name 'os' is not defined",
     "output_type": "error",
     "traceback": [
      "\u001b[1;31m---------------------------------------------------------------------------\u001b[0m",
      "\u001b[1;31mNameError\u001b[0m                                 Traceback (most recent call last)",
      "Cell \u001b[1;32mIn[14], line 1\u001b[0m\n\u001b[1;32m----> 1\u001b[0m \u001b[39mprint\u001b[39m(\u001b[39m\"\u001b[39m\u001b[39m[\u001b[39m\u001b[39m\"\u001b[39m \u001b[39m+\u001b[39m os\u001b[39m.\u001b[39mpath\u001b[39m.\u001b[39mbasename(sys\u001b[39m.\u001b[39margv[\u001b[39m0\u001b[39m])\u001b[39m.\u001b[39mreplace(\u001b[39m\"\u001b[39m\u001b[39m.py\u001b[39m\u001b[39m\"\u001b[39m, \u001b[39m\"\u001b[39m\u001b[39m\"\u001b[39m) \u001b[39m+\u001b[39m \u001b[39m\"\u001b[39m\u001b[39m]\u001b[39m\u001b[39m\"\u001b[39m)\n\u001b[0;32m      2\u001b[0m \u001b[39mprint\u001b[39m(bcolors\u001b[39m.\u001b[39mENDC, \u001b[39m\"\u001b[39m\u001b[39m========= 호출정보 =========\u001b[39m\u001b[39m\"\u001b[39m)\n\u001b[0;32m      3\u001b[0m \u001b[39mprint\u001b[39m(bcolors\u001b[39m.\u001b[39mWARNING, \u001b[39m\"\u001b[39m\u001b[39maudioData:\u001b[39m\u001b[39m\"\u001b[39m, file_name, \u001b[39m\"\u001b[39m\u001b[39mencoding:\u001b[39m\u001b[39m\"\u001b[39m, encoding, \u001b[39m\"\u001b[39m\u001b[39msttModelCode:\u001b[39m\u001b[39m\"\u001b[39m, sttModelCode)\n",
      "\u001b[1;31mNameError\u001b[0m: name 'os' is not defined"
     ]
    }
   ],
   "source": [
    "print(\"[\" + os.path.basename(sys.argv[0]).replace(\".py\", \"\") + \"]\")\n",
    "print(bcolors.ENDC, \"========= 호출정보 =========\")\n",
    "print(bcolors.WARNING, \"audioData:\", file_name, \"encoding:\", encoding, \"sttModelCode:\", sttModelCode)\n",
    "response = stt_client.requestSTT2(audioData, encoding, sttModelCode)\n",
    "print(bcolors.ENDC, \"========= 응답결과 =========\")\n",
    "print(bcolors.HEADER, response)\n",
    "\n",
    "print(bcolors.ENDC)"
   ]
  },
  {
   "cell_type": "code",
   "execution_count": 10,
   "metadata": {},
   "outputs": [
    {
     "name": "stdout",
     "output_type": "stream",
     "text": [
      "Note: you may need to restart the kernel to use updated packages.\n"
     ]
    },
    {
     "name": "stderr",
     "output_type": "stream",
     "text": [
      "ERROR: Could not find a version that satisfies the requirement TestCommon (from versions: none)\n",
      "ERROR: No matching distribution found for TestCommon\n"
     ]
    }
   ],
   "source": []
  },
  {
   "cell_type": "code",
   "execution_count": 2,
   "metadata": {},
   "outputs": [],
   "source": [
    "import os\n",
    "import sys\n",
    "from TestCommon.conf import config\n",
    "from TestCommon.conf import bcolors\n",
    "from ktAiApiSDK.STT import STT\n",
    "from pathlib import Path"
   ]
  },
  {
   "cell_type": "code",
   "execution_count": 12,
   "metadata": {},
   "outputs": [],
   "source": [
    "\n",
    "#-------------------------------------------\n",
    "# 호출용 데이터 설정\n",
    "#-------------------------------------------\n",
    "stt_client = STT()\n",
    "stt_client.__init__()\n",
    "stt_client.setAuth(clientKey, clientId, clientSecret)\n",
    "file_name = './TestFile/STT.mp3'\n",
    "audioData = Path(file_name).read_bytes() \n",
    "sttMode = 2\n",
    "targetLanguage = \"ko\"\n",
    "encoding = \"mp3\""
   ]
  },
  {
   "cell_type": "code",
   "execution_count": 13,
   "metadata": {},
   "outputs": [
    {
     "name": "stdout",
     "output_type": "stream",
     "text": [
      "[ipykernel_launcher]\n",
      "\u001b[0m ========= 호출정보 =========\n",
      "\u001b[93m audioData: ./TestFile/STT.mp3 sttMode: 2 targetLanguage: ko encoding: mp3\n",
      "\u001b[0m ========= 응답결과 =========\n",
      "\u001b[94m {'statusCode': 200, 'result': ['{\"resultType\":\"start\",\"transactionId\":\"0d29cf55-439b-545a-8e28-384bb34b02ed\"}']}\n",
      "\u001b[0m\n"
     ]
    }
   ],
   "source": [
    "#-------------------------------------------\n",
    "# 호출\n",
    "#-------------------------------------------\n",
    "print(\"[\" + os.path.basename(sys.argv[0]).replace(\".py\", \"\") + \"]\")\n",
    "print(bcolors.ENDC, \"========= 호출정보 =========\")\n",
    "print(bcolors.WARNING, \"audioData:\", file_name, \"sttMode:\", sttMode, \"targetLanguage:\", targetLanguage, \"encoding:\", encoding)\n",
    "response = stt_client.requestSTT(audioData, sttMode, targetLanguage, encoding, \"\", \"\", \"\")\n",
    "print(bcolors.ENDC, \"========= 응답결과 =========\")\n",
    "print(bcolors.HEADER, response)\n",
    "\n",
    "print(bcolors.ENDC)"
   ]
  },
  {
   "cell_type": "code",
   "execution_count": 9,
   "metadata": {},
   "outputs": [
    {
     "name": "stdout",
     "output_type": "stream",
     "text": [
      "\u001b[94m {'statusCode': 200, 'result': ['{\"resultType\":\"start\",\"transactionId\":\"75574444-280b-5a00-a87f-3bda2d67200c\"}']}\n"
     ]
    }
   ],
   "source": [
    "print(bcolors.HEADER, response)"
   ]
  },
  {
   "cell_type": "code",
   "execution_count": 7,
   "metadata": {},
   "outputs": [
    {
     "data": {
      "text/plain": [
       "{'statusCode': 401, 'errorCode': 'CODE:5, MSG:xxxx\\n'}"
      ]
     },
     "execution_count": 7,
     "metadata": {},
     "output_type": "execute_result"
    }
   ],
   "source": [
    "stt_client.querySTT('75574444-280b-5a00-a87f-3bda2d67200c')"
   ]
  },
  {
   "cell_type": "code",
   "execution_count": 11,
   "metadata": {},
   "outputs": [
    {
     "data": {
      "text/plain": [
       "{'statusCode': 200,\n",
       " 'result': ['{\"resultType\":\"start\",\"transactionId\":\"75574444-280b-5a00-a87f-3bda2d67200c\"}']}"
      ]
     },
     "execution_count": 11,
     "metadata": {},
     "output_type": "execute_result"
    }
   ],
   "source": [
    "response"
   ]
  },
  {
   "cell_type": "code",
   "execution_count": 3,
   "metadata": {},
   "outputs": [],
   "source": [
    "\n",
    "\n",
    "import os\n",
    "import sys\n",
    "from TestCommon.conf import config\n",
    "from TestCommon.conf import bcolors\n",
    "from ktAiApiSDK.GENIEMEMO import GENIEMEMO\n",
    "from pathlib import Path\n",
    "import json"
   ]
  },
  {
   "cell_type": "code",
   "execution_count": 14,
   "metadata": {},
   "outputs": [],
   "source": [
    "#-------------------------------------------\n",
    "# 호출용 데이터 설정\n",
    "#-------------------------------------------\n",
    "geniememo_client = GENIEMEMO()\n",
    "geniememo_client.__init__()\n",
    "geniememo_client.setAuth(clientKey, clientId, clientSecret)\n",
    "callKey = \"7\"\n",
    "lastYn = \"N\"\n",
    "callIndex = 1\n",
    "file_name = './TestFile/STT.mp3'\n",
    "audioData = Path(file_name).read_bytes()\n"
   ]
  },
  {
   "cell_type": "code",
   "execution_count": 10,
   "metadata": {},
   "outputs": [
    {
     "name": "stdout",
     "output_type": "stream",
     "text": [
      "[ipykernel_launcher]\n",
      "\u001b[0m ========= 호출정보 =========\n",
      "\u001b[93m audioData: ./TestFile/STT.mp3 callKey: 7 lastYn: N callIndex: 1\n"
     ]
    }
   ],
   "source": [
    "#-------------------------------------------\n",
    "# 호출\n",
    "#-------------------------------------------\n",
    "print(\"[\" + os.path.basename(sys.argv[0]).replace(\".py\", \"\") + \"]\")\n",
    "print(bcolors.ENDC, \"========= 호출정보 =========\")\n",
    "print(bcolors.WARNING, \"audioData:\", file_name, \"callKey:\", callKey, \"lastYn:\", lastYn, \"callIndex:\", callIndex)\n",
    "response = geniememo_client.requestGENIEMEMO(audioData, callKey, lastYn, callIndex)\n"
   ]
  },
  {
   "cell_type": "code",
   "execution_count": 11,
   "metadata": {},
   "outputs": [
    {
     "name": "stdout",
     "output_type": "stream",
     "text": [
      "\u001b[0m ========= 응답결과 =========\n",
      "\u001b[94m {'statusCode': 200, 'result': ['{\"code\":\"0000\",\"message\":\"Success\",\"callIndex\":1,\"dataList\":[{\"userIdx\":\"2\",\"startTime\":\"1060\",\"endTime\":\"4620\",\"text\":\"육 년 전 사하라사막에서 비행기가 출락했어\"},{\"userIdx\":\"2\",\"startTime\":\"5070\",\"endTime\":\"6520\",\"text\":\"나는 어린 왕자를 만나\"},{\"userIdx\":\"2\",\"startTime\":\"7470\",\"endTime\":\"10650\",\"text\":\"처음에 그는 나에게 양의 그림을 그려달라고\"},{\"userIdx\":\"2\",\"startTime\":\"11640\",\"endTime\":\"14120\",\"text\":\"또한 전의 그린 보합뱀의 그림을 이해\"},{\"userIdx\":\"2\",\"startTime\":\"15180\",\"endTime\":\"21910\",\"text\":\"양의 모습이 마음에 들지 않는다고 해서 귀차나 상자의 그림을 그렸더니 의외로 만족해\"},{\"userIdx\":\"2\",\"startTime\":\"22860\",\"endTime\":\"24560\",\"text\":\"상자 안에 양이 있다는거\"},{\"userIdx\":\"2\",\"startTime\":\"25500\",\"endTime\":\"31090\",\"text\":\"이 어린 왕자는 지체만한 별에서 왔는데 그 별의 이름은 비유\"},{\"userIdx\":\"2\",\"startTime\":\"31940\",\"endTime\":\"39490\",\"text\":\"언제나 숫자를 좋아하는 어른들이 붙인 이름이다 그렇지만 인생을 이해하는 이들은 숫자 같은 건\"}],\"status\":0,\"duration\":40}']}\n",
      "\u001b[0m\n"
     ]
    }
   ],
   "source": [
    "#-------------------------------------------\n",
    "# 결과 출력\n",
    "#-------------------------------------------\n",
    "print(bcolors.ENDC, \"========= 응답결과 =========\")\n",
    "print(bcolors.HEADER, response)\n",
    "\n",
    "print(bcolors.ENDC)"
   ]
  },
  {
   "cell_type": "code",
   "execution_count": 14,
   "metadata": {},
   "outputs": [
    {
     "name": "stdout",
     "output_type": "stream",
     "text": [
      "\u001b[0m ========= 응답결과 =========\n",
      "\u001b[94m {'statusCode': 200, 'result': ['{\"code\":\"0000\",\"message\":\"Success\",\"callIndex\":1,\"dataList\":[{\"userIdx\":\"2\",\"startTime\":\"0\",\"endTime\":\"7250\",\"text\":\"아 네 엄마 할게 아\"},{\"userIdx\":\"1\",\"startTime\":\"7250\",\"endTime\":\"8250\",\"text\":\"유\"},{\"userIdx\":\"2\",\"startTime\":\"8250\",\"endTime\":\"12250\",\"text\":\"뭐하고 계셨어요저 저혼님을다 왔어요\"},{\"userIdx\":\"2\",\"startTime\":\"12500\",\"endTime\":\"19750\",\"text\":\"지금 뭐하고 계세요 이데 앉아서 과일 먹으면서 이제 들어와서 쓰고 있는데요 음\"},{\"userIdx\":\"1\",\"startTime\":\"19750\",\"endTime\":\"23000\",\"text\":\"제 엄마로 살아온 유영님님의 인생\"},{\"userIdx\":\"2\",\"startTime\":\"23000\",\"endTime\":\"32270\",\"text\":\"힘들지 않으셨어요 아 우리 아들 엄마로 태어나서 감사할 정도로 바르고 착하게 잘 커서 없나 행복한데\"},{\"userIdx\":\"1\",\"startTime\":\"32270\",\"endTime\":\"33270\",\"text\":\"인\"},{\"userIdx\":\"2\",\"startTime\":\"33270\",\"endTime\":\"45270\",\"text\":\"했셨어요 그러면 네 어 안 힘든 적게 없다고 하면은 거짓말인데 그걸로 힘들다고 하기에는 음\"},{\"userIdx\":\"1\",\"startTime\":\"45270\",\"endTime\":\"46520\",\"text\":\"내가\"},{\"userIdx\":\"2\",\"startTime\":\"46520\",\"endTime\":\"58020\",\"text\":\"이름 불러주니까 어때 기분 좋아  팀은 삐다 좋아 엄마 이름 다소리 엄마가 아니라 유영님이니까 음\"},{\"userIdx\":\"1\",\"startTime\":\"58020\",\"endTime\":\"60040\",\"text\":\"본인의 이름을 대시\"},{\"userIdx\":\"1\",\"startTime\":\"60290\",\"endTime\":\"62040\",\"text\":\"그래서 엄마라는\"},{\"userIdx\":\"2\",\"startTime\":\"62040\",\"endTime\":\"85040\",\"text\":\"다른 건 어땠어 엄마라는 이름으로 사는 동안 행복했지 왜냐면 음 아들이나 딸 덕분에 엄마도 많이 성장하고 행복을 서 아니 사랑을 서로 주고 듣다 보니까 엄마가 인생을 잘못 살았다 생각이 안 들 안 될 정도로 잘 커져서 고마운 거지 음\"},{\"userIdx\":\"2\",\"startTime\":\"85790\",\"endTime\":\"87040\",\"text\":\"엄마는\"},{\"userIdx\":\"2\",\"startTime\":\"87290\",\"endTime\":\"94310\",\"text\":\"어뭐 이게래서 이게 어 말해 아 엄마 계서 이게 아니요 끝나어 말해 아\"},{\"userIdx\":\"1\",\"startTime\":\"94310\",\"endTime\":\"98810\",\"text\":\"딸는 그냥 늘 내 엄마로 살아와서 오늘 엄마 이랑 한번 불러주고 싶어서 얘기하니\"},{\"userIdx\":\"2\",\"startTime\":\"98810\",\"endTime\":\"102810\",\"text\":\"그게 휴제요 아예 또 그\"},{\"userIdx\":\"1\",\"startTime\":\"102810\",\"endTime\":\"106310\",\"text\":\"이거 쓰고 엄마 반응이랑 내 느낀 점 쓰는 게\"},{\"userIdx\":\"2\",\"startTime\":\"106310\",\"endTime\":\"109560\",\"text\":\"뿌 있어 아 큐븐좋아 어\"},{\"userIdx\":\"1\",\"startTime\":\"109560\",\"endTime\":\"111060\",\"text\":\"이게 나는 어떤 아들인요\"},{\"userIdx\":\"2\",\"startTime\":\"111060\",\"endTime\":\"125080\",\"text\":\"엄마에게 아들은 친구 같고 응 진든하고 응 또 엄마가 가끔은 의지하고도 싶은 아들 음\"},{\"userIdx\":\"1\",\"startTime\":\"125080\",\"endTime\":\"127830\",\"text\":\"엄마에게 사식이란 어떤\"},{\"userIdx\":\"2\",\"startTime\":\"127830\",\"endTime\":\"158600\",\"text\":\"엄마에게 자식은 네 무엇가도 바꿀 수 없는 중데지 음 응 됐어 예 엄마 사랑해 이 이것도 이거 이것도 있어 대서 사랑한 좋 좋아 어 그 말 한 번씩 자주 해줘 뭐 엄마 사랑네 뭐 고객님네 이름 불러주는 거랑 어\"},{\"userIdx\":\"2\",\"startTime\":\"159100\",\"endTime\":\"197870\",\"text\":\"불러주면 뭐가 달라 어 기분 좋아 왜 네 네 내가 엄마가 아니라 엄마는 태어나면서 유용님이란 이름으로 태어났잖아 응 근데 삼용서는 내 이름을 가지고 있는데 나 존재보다는 누구의 엄마 누구의 남편 응 그까 나를 돌보기보다는 내가 자직을 돌보르는 거나 남편을 돌보는 거 왜 집중을  하다가 보면은 쪽그리고 삼득이 있는데 농님 다이 불러주면 내 존재로 더 내 존재 자체로 존규하게 느껴져서 기분 좋아 아 그 엄마로 화는 것보다\"},{\"userIdx\":\"1\",\"startTime\":\"197870\",\"endTime\":\"199370\",\"text\":\"사 사는 건 별로 안 좋\"},{\"userIdx\":\"2\",\"startTime\":\"199370\",\"endTime\":\"251910\",\"text\":\"네 아니 그 잖아  어 유형님이 아니라 엄마로 살아서 니네가 내 자식으로 와서 뭐 가끔 힘든 적도 없다면 굳짓 말이고 뭐 어려운 적이 없는 건 아니었지만 그래도 너네들이 뭐 특별히 삐뚤어지지 않게 다르고 또 한이 많해서 잘 자라주니까 되게 엄마는 뿌듯하고 감사하지 뭐 왜 가끔 걱정은 어 해진니로나가기때는 윤종이 영화를 만나서 티댁에 가면 예배를 안 드리고 하는 여러 가지 부분에 있어서 조금 걱정이 되고 또 우리 아들이 친향을 친향이 없는 여자를 만나서 뭐 그런 부분에 대해서 우리가 또 아빠랑 나랑 뭐 높피자로서 또 하 하나님의 자녀로서 거기에 고민이 그런 부분이 없잖아 거 조금 염려는 되는데 뭐 그것도 하나님이 실\"},{\"userIdx\":\"1\",\"startTime\":\"251910\",\"endTime\":\"252660\",\"text\":\"음\"},{\"userIdx\":\"2\",\"startTime\":\"252660\",\"endTime\":\"270680\",\"text\":\"알았어 뭐래 뭐 알았어 응 나도 알았어 어 엄마 엄마가 옆반에 옆 질문 한번 해볼게 뭐 아들은 엄마의 아들로 태어나 태어나서 산 게 어때 어 와 벌어 그 딸은\"},{\"userIdx\":\"1\",\"startTime\":\"270680\",\"endTime\":\"271930\",\"text\":\"티비 보면은\"},{\"userIdx\":\"2\",\"startTime\":\"271930\",\"endTime\":\"276930\",\"text\":\"이상한 엄마나 막 그런 엄마 막 이상한 길로 빠져서\"},{\"userIdx\":\"1\",\"startTime\":\"276930\",\"endTime\":\"280430\",\"text\":\"좀 힘들게 살게 되는 엄 마 그 다녀\"},{\"userIdx\":\"2\",\"startTime\":\"280430\",\"endTime\":\"285930\",\"text\":\"잖아 근데 나는 우리 엄마가 우리 엄마 해서 좋아 그냥\"},{\"userIdx\":\"1\",\"startTime\":\"285930\",\"endTime\":\"289680\",\"text\":\"어 뭐 다른 의미가 없네 딸은 엄마는 만나본\"},{\"userIdx\":\"2\",\"startTime\":\"289680\",\"endTime\":\"312620\",\"text\":\"수 아니 네 네 생각을 말하는 거지 그니까 맞아 엄마가 우리 엄마여서 좋아 취미야 응  고마워 어 알았어 나루 이쭉 어 그청 어 퉁차아 너른거라 어 어\"}],\"status\":0,\"duration\":312}']}\n",
      "\u001b[0m\n"
     ]
    }
   ],
   "source": [
    "#-------------------------------------------\n",
    "# 결과 출력\n",
    "#-------------------------------------------\n",
    "print(bcolors.ENDC, \"========= 응답결과 =========\")\n",
    "print(bcolors.HEADER, response)\n",
    "\n",
    "print(bcolors.ENDC)"
   ]
  },
  {
   "cell_type": "code",
   "execution_count": 12,
   "metadata": {},
   "outputs": [
    {
     "data": {
      "text/plain": [
       "{'statusCode': 200,\n",
       " 'result': ['{\"code\":\"0000\",\"message\":\"Success\",\"callIndex\":1,\"dataList\":[{\"userIdx\":\"2\",\"startTime\":\"1060\",\"endTime\":\"4620\",\"text\":\"육 년 전 사하라사막에서 비행기가 출락했어\"},{\"userIdx\":\"2\",\"startTime\":\"5070\",\"endTime\":\"6520\",\"text\":\"나는 어린 왕자를 만나\"},{\"userIdx\":\"2\",\"startTime\":\"7470\",\"endTime\":\"10650\",\"text\":\"처음에 그는 나에게 양의 그림을 그려달라고\"},{\"userIdx\":\"2\",\"startTime\":\"11640\",\"endTime\":\"14120\",\"text\":\"또한 전의 그린 보합뱀의 그림을 이해\"},{\"userIdx\":\"2\",\"startTime\":\"15180\",\"endTime\":\"21910\",\"text\":\"양의 모습이 마음에 들지 않는다고 해서 귀차나 상자의 그림을 그렸더니 의외로 만족해\"},{\"userIdx\":\"2\",\"startTime\":\"22860\",\"endTime\":\"24560\",\"text\":\"상자 안에 양이 있다는거\"},{\"userIdx\":\"2\",\"startTime\":\"25500\",\"endTime\":\"31090\",\"text\":\"이 어린 왕자는 지체만한 별에서 왔는데 그 별의 이름은 비유\"},{\"userIdx\":\"2\",\"startTime\":\"31940\",\"endTime\":\"39490\",\"text\":\"언제나 숫자를 좋아하는 어른들이 붙인 이름이다 그렇지만 인생을 이해하는 이들은 숫자 같은 건\"}],\"status\":0,\"duration\":40}']}"
      ]
     },
     "execution_count": 12,
     "metadata": {},
     "output_type": "execute_result"
    }
   ],
   "source": [
    "response"
   ]
  },
  {
   "cell_type": "code",
   "execution_count": 13,
   "metadata": {},
   "outputs": [],
   "source": [
    "# JSON 문자열 추출\n",
    "json_data = response['result'][0]\n",
    "\n",
    "# JSON 문자열을 파이썬 객체로 변환\n",
    "data = json.loads(json_data)\n",
    "\n",
    "# 데이터 추출 및 시작 시간 변환\n",
    "formatted_data = []\n",
    "for item in data['dataList']:\n",
    "    start_time = int(item['startTime']) // 1000  # 1000으로 나누어 초 단위로 변환\n",
    "    hours, remainder = divmod(start_time, 3600)\n",
    "    minutes, seconds = divmod(remainder, 60)\n",
    "    formatted_time = f'{hours:02d}:{minutes:02d}:{seconds:02d}'\n",
    "    formatted_data.append({'startTime': formatted_time, 'text': item['text']})\n",
    "\n",
    "# 텍스트 파일에 저장\n",
    "with open('output7.txt', 'w') as file:\n",
    "    for item in formatted_data:\n",
    "        file.write(f\"{item['startTime']} - {item['text']}\\n\")"
   ]
  },
  {
   "cell_type": "code",
   "execution_count": 16,
   "metadata": {},
   "outputs": [],
   "source": [
    "json_data = response['result'][0]"
   ]
  },
  {
   "cell_type": "code",
   "execution_count": 17,
   "metadata": {},
   "outputs": [],
   "source": [
    "data = json.loads(json_data)"
   ]
  },
  {
   "cell_type": "code",
   "execution_count": 18,
   "metadata": {},
   "outputs": [],
   "source": [
    "text_list = [item['text'] for item in data['dataList']]"
   ]
  },
  {
   "cell_type": "code",
   "execution_count": 19,
   "metadata": {},
   "outputs": [],
   "source": [
    "with open('output3.txt', 'w') as file:\n",
    "    for text in text_list:\n",
    "        file.write(text + '\\n')"
   ]
  },
  {
   "cell_type": "code",
   "execution_count": null,
   "metadata": {},
   "outputs": [],
   "source": [
    "import os\n",
    "import sys\n",
    "sys.path.append(os.path.dirname(os.path.abspath(os.path.dirname(__file__))))\n",
    "from TestCommon.conf import config\n",
    "from TestCommon.conf import bcolors\n",
    "from ktAiApiSDK.GENIEMEMO import GENIEMEMO\n",
    "from pathlib import Path\n"
   ]
  },
  {
   "cell_type": "code",
   "execution_count": 36,
   "metadata": {},
   "outputs": [],
   "source": [
    "#-------------------------------------------\n",
    "# 호출용 데이터 설정\n",
    "#-------------------------------------------\n",
    "geniememoasync_client = GENIEMEMO()\n",
    "geniememoasync_client.__init__()\n",
    "geniememoasync_client.setAuth(clientKey, clientId, clientSecret)\n",
    "callKey = \"callKey 입력\"\n",
    "file_name = './TestFile/엄마-이름-불러보기.wav'\n",
    "audioData = Path(file_name).read_bytes()"
   ]
  },
  {
   "cell_type": "code",
   "execution_count": 37,
   "metadata": {},
   "outputs": [
    {
     "name": "stdout",
     "output_type": "stream",
     "text": [
      "[ipykernel_launcher]\n",
      "\u001b[0m ========= 호출정보 =========\n",
      "\u001b[93m audioData: ./TestFile/엄마-이름-불러보기.wav callKey: callKey 입력\n",
      "\u001b[0m ========= 응답결과 =========\n",
      "\u001b[94m {'statusCode': 200, 'result': ['{\"code\":\"3005\",\"message\":\"duplicate request\",\"callIndex\":0}']}\n",
      "\u001b[0m\n"
     ]
    }
   ],
   "source": [
    "#-------------------------------------------\n",
    "# 호출\n",
    "#-------------------------------------------\n",
    "print(\"[\" + os.path.basename(sys.argv[0]).replace(\".py\", \"\") + \"]\")\n",
    "print(bcolors.ENDC, \"========= 호출정보 =========\")\n",
    "print(bcolors.WARNING, \"audioData:\", file_name, \"callKey:\", callKey)\n",
    "response = geniememoasync_client.requestGENIEMEMOASYNC(audioData, callKey)\n",
    "print(bcolors.ENDC, \"========= 응답결과 =========\")\n",
    "print(bcolors.HEADER, response)\n",
    "\n",
    "print(bcolors.ENDC)"
   ]
  }
 ],
 "metadata": {
  "kernelspec": {
   "display_name": "aici1",
   "language": "python",
   "name": "python3"
  },
  "language_info": {
   "codemirror_mode": {
    "name": "ipython",
    "version": 3
   },
   "file_extension": ".py",
   "mimetype": "text/x-python",
   "name": "python",
   "nbconvert_exporter": "python",
   "pygments_lexer": "ipython3",
   "version": "3.10.11"
  },
  "orig_nbformat": 4
 },
 "nbformat": 4,
 "nbformat_minor": 2
}
